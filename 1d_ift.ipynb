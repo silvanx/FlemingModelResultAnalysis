{
 "cells": [
  {
   "cell_type": "code",
   "execution_count": null,
   "id": "0",
   "metadata": {},
   "outputs": [],
   "source": [
    "import matplotlib.pyplot as plt\n",
    "import numpy as np\n",
    "import plot_utils as u\n",
    "from pathlib import Path\n",
    "from tqdm.notebook import tqdm"
   ]
  },
  {
   "cell_type": "code",
   "execution_count": null,
   "id": "1",
   "metadata": {
    "jupyter": {
     "outputs_hidden": false
    }
   },
   "outputs": [],
   "source": [
    "result_dir = Path(\"long_pi_grid\")\n",
    "lam = 0\n",
    "line_colors = ['#dcc48e', '#eaefd3', '#b3c0a4', '#505168', '#27233a', '#561f37', '#b3c0a4', '#505168', '#27233a']\n",
    "setpoint = 1.0414E-4\n",
    "tail_length = 20000"
   ]
  },
  {
   "cell_type": "code",
   "execution_count": null,
   "id": "2",
   "metadata": {
    "jupyter": {
     "outputs_hidden": false
    }
   },
   "outputs": [],
   "source": [
    "kp_list = set()\n",
    "ti_list = set()\n",
    "seed_list = set()\n",
    "\n",
    "for simdir in result_dir.iterdir():\n",
    "    if not simdir.is_dir():\n",
    "        continue\n",
    "    outfiles = list(simdir.glob('*.out'))\n",
    "    if len(outfiles) != 1:\n",
    "        continue\n",
    "    for output_file in outfiles:\n",
    "        config = u.read_config_from_output_file(output_file)\n",
    "        seed_list.add(config['RandomSeed'])\n",
    "        kp_list.add(config['kp'])\n",
    "        ti_list.add(config['ti'])"
   ]
  },
  {
   "cell_type": "code",
   "execution_count": null,
   "id": "3",
   "metadata": {
    "jupyter": {
     "outputs_hidden": false
    }
   },
   "outputs": [],
   "source": [
    "fitness = dict()\n",
    "for ti in ti_list:\n",
    "    fitness[ti] = {\n",
    "        kp: []\n",
    "        for kp in kp_list\n",
    "    }"
   ]
  },
  {
   "cell_type": "code",
   "execution_count": null,
   "id": "4",
   "metadata": {
    "jupyter": {
     "outputs_hidden": false
    }
   },
   "outputs": [],
   "source": [
    "for simdir in result_dir.iterdir():\n",
    "    if not simdir.is_dir():\n",
    "        continue\n",
    "    outfiles = list(simdir.glob('*.out'))\n",
    "    if len(outfiles) != 1:\n",
    "        continue\n",
    "    for output_file in outfiles:\n",
    "        config = u.read_config_from_output_file(output_file)\n",
    "        seed = config['RandomSeed']\n",
    "        kp = config['kp']\n",
    "        ti = config['ti']\n",
    "        \n",
    "    controller_t, controller_p, controller_b = u.load_controller_data(simdir)\n",
    "    controller_e = (controller_b - config['setpoint']) / config['setpoint']\n",
    "    dt = controller_t[1] = controller_t[0]\n",
    "    \n",
    "    num_samples = int(tail_length / dt)\n",
    "    j = np.sum((controller_e[-num_samples:]) ** 2 + lam * (controller_p[-num_samples:] ** 2)) / (2 * num_samples)\n",
    "    fitness[ti][kp].append((seed, j))"
   ]
  },
  {
   "cell_type": "code",
   "execution_count": null,
   "id": "5",
   "metadata": {
    "jupyter": {
     "outputs_hidden": false
    }
   },
   "outputs": [],
   "source": [
    "color_number = 0\n",
    "for ti in fitness:\n",
    "    ti_data = fitness[ti]\n",
    "    fig = plt.figure(figsize=(12, 10))\n",
    "    ax = fig.add_axes([0, 0, 1, 1])\n",
    "    ax.set_facecolor(\"white\")\n",
    "    mean_line = []\n",
    "    for kp in ti_data:\n",
    "        j_data = ti_data[kp]\n",
    "        if len(j_data) == 0:\n",
    "            continue\n",
    "        j = np.array([e[1] for e in j_data])\n",
    "        j_mean = np.mean(j)\n",
    "        j_std = np.std(j)\n",
    "        mean_line.append((kp, j_mean))\n",
    "        plt.plot([kp, kp], [j_mean - j_std, j_mean + j_std], color=\"black\")\n",
    "    kp_all, j_mean = map(list, zip(*sorted(mean_line, key=lambda e: e[0])))\n",
    "    plt.plot(kp_all, j_mean, color=line_colors[color_number])\n",
    "        \n",
    "    u.format_single_2d_plot(fig, \"Kp\", \"Fitness\", f\"Fitness for Ti={ti}, lambda={lam}\")\n",
    "    fig.savefig(f\"fitness_data_ti_{ti:.1f}.png\", bbox_inches=\"tight\")"
   ]
  }
 ],
 "metadata": {
  "kernelspec": {
   "display_name": "Python 3 (ipykernel)",
   "language": "python",
   "name": "python3"
  },
  "language_info": {
   "codemirror_mode": {
    "name": "ipython",
    "version": 3
   },
   "file_extension": ".py",
   "mimetype": "text/x-python",
   "name": "python",
   "nbconvert_exporter": "python",
   "pygments_lexer": "ipython3",
   "version": "3.9.17"
  }
 },
 "nbformat": 4,
 "nbformat_minor": 5
}
