{
 "cells": [
  {
   "cell_type": "code",
   "execution_count": null,
   "metadata": {},
   "outputs": [],
   "source": [
    "import numpy as np\n",
    "import plot_utils as u\n",
    "from pathlib import Path\n",
    "import matplotlib.pyplot as plt"
   ]
  },
  {
   "cell_type": "code",
   "execution_count": null,
   "metadata": {},
   "outputs": [],
   "source": [
    "result_directory = Path('../collaterals/')"
   ]
  },
  {
   "cell_type": "code",
   "execution_count": null,
   "metadata": {},
   "outputs": [],
   "source": [
    "for simulation_dirname in result_directory.iterdir():\n",
    "\n",
    "    time, voltage = u.load_cortical_collateral_voltage(simulation_dirname)\n",
    "    time_soma, voltage_soma = u.load_cortical_soma_voltage(simulation_dirname)\n",
    "    time_dbs, dbs = u.load_dbs_output(simulation_dirname)\n",
    "\n",
    "    start = 7950\n",
    "    stop = 8100\n",
    "\n",
    "    s_v = u.time_to_sample(time, start)\n",
    "    e_v = u.time_to_sample(time, stop)\n",
    "\n",
    "    s_dbs = u.time_to_sample(time_dbs, start)\n",
    "    e_dbs = u.time_to_sample(time_dbs, stop)\n",
    "    \n",
    "    s_soma = u.time_to_sample(time_soma, start)\n",
    "    e_soma = u.time_to_sample(time_soma, stop)\n",
    "\n",
    "    fig, axs = plt.subplots(3, 1, figsize=(12, 16))\n",
    "    axs[0].plot(time_dbs[s_dbs:e_dbs], dbs[s_dbs:e_dbs])\n",
    "    axs[1].plot(time[s_v:e_v], voltage[s_v:e_v, 0])\n",
    "    axs[1].plot(time[s_v:e_v], voltage[s_v:e_v, 1])\n",
    "    axs[1].plot(time[s_v:e_v], voltage[s_v:e_v, 2])\n",
    "    axs[2].plot(time_soma[s_v:e_v], voltage_soma[s_v:e_v, 0])\n",
    "    axs[2].plot(time_soma[s_v:e_v], voltage_soma[s_v:e_v, 1])\n",
    "    axs[2].plot(time_soma[s_v:e_v], voltage_soma[s_v:e_v, 2])\n",
    "\n",
    "    u.format_single_axis(axs[0], \"Time [ms]\", \"DBS amplitude [mA]\", \"\")\n",
    "    u.format_single_axis(axs[1], \"Time [ms]\", \"Collateral voltage [mV]\", \"\")\n",
    "    u.format_single_axis(axs[2], \"Time [ms]\", \"Soma voltage [mV]\", \"\")"
   ]
  },
  {
   "cell_type": "code",
   "execution_count": null,
   "metadata": {},
   "outputs": [],
   "source": [
    "simulation_dirname = Path('../ift_pi_comparison/PI-20230329113826-9')\n",
    "time, voltage = u.load_cortical_collateral_voltage(simulation_dirname)\n",
    "time_soma, voltage_soma = u.load_cortical_soma_voltage(simulation_dirname)\n",
    "time_dbs, dbs = u.load_dbs_output(simulation_dirname)\n",
    "\n",
    "start = 8100\n",
    "stop = 8500\n",
    "\n",
    "s_v = u.time_to_sample(time, start)\n",
    "e_v = u.time_to_sample(time, stop)\n",
    "\n",
    "s_dbs = u.time_to_sample(time_dbs, start)\n",
    "e_dbs = u.time_to_sample(time_dbs, stop)\n",
    "\n",
    "s_soma = u.time_to_sample(time_soma, start)\n",
    "e_soma = u.time_to_sample(time_soma, stop)\n",
    "\n",
    "fig, axs = plt.subplots(3, 1, figsize=(12, 16))\n",
    "axs[0].plot(time_dbs[s_dbs:e_dbs], dbs[s_dbs:e_dbs])\n",
    "axs[1].plot(time[s_v:e_v], voltage[s_v:e_v, 0])\n",
    "axs[1].plot(time[s_v:e_v], voltage[s_v:e_v, 1])\n",
    "axs[1].plot(time[s_v:e_v], voltage[s_v:e_v, 2])\n",
    "axs[2].plot(time_soma[s_v:e_v], voltage_soma[s_v:e_v, 0])\n",
    "axs[2].plot(time_soma[s_v:e_v], voltage_soma[s_v:e_v, 1])\n",
    "axs[2].plot(time_soma[s_v:e_v], voltage_soma[s_v:e_v, 2])\n",
    "\n",
    "u.format_single_axis(axs[0], \"Time [ms]\", \"DBS amplitude [mA]\", \"\")\n",
    "u.format_single_axis(axs[1], \"Time [ms]\", \"Collateral voltage [mV]\", \"\")\n",
    "u.format_single_axis(axs[2], \"Time [ms]\", \"Soma voltage [mV]\", \"\")"
   ]
  }
 ],
 "metadata": {
  "kernelspec": {
   "display_name": ".venv",
   "language": "python",
   "name": "python3"
  },
  "language_info": {
   "codemirror_mode": {
    "name": "ipython",
    "version": 3
   },
   "file_extension": ".py",
   "mimetype": "text/x-python",
   "name": "python",
   "nbconvert_exporter": "python",
   "pygments_lexer": "ipython3",
   "version": "3.9.5"
  }
 },
 "nbformat": 4,
 "nbformat_minor": 2
}
