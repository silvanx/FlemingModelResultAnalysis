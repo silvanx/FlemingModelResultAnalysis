{
 "cells": [
  {
   "cell_type": "code",
   "execution_count": null,
   "metadata": {},
   "outputs": [],
   "source": [
    "import pickle\n",
    "import numpy as np\n",
    "import matplotlib.pyplot as plt\n",
    "from ipywidgets import interact\n",
    "import ipywidgets as widgets\n",
    "from tqdm.notebook import tqdm\n",
    "import plot_utils as u\n",
    "from scipy.interpolate import griddata\n",
    "from matplotlib import cm"
   ]
  },
  {
   "cell_type": "code",
   "execution_count": null,
   "metadata": {},
   "outputs": [],
   "source": [
    "result_file = \"DBS_amplitude_effect_computed_values.pickle\"\n",
    "with open(result_file, \"rb\") as f:\n",
    "    results = pickle.load(f)"
   ]
  },
  {
   "cell_type": "code",
   "execution_count": null,
   "metadata": {},
   "outputs": [],
   "source": [
    "results_per_seed = dict()\n",
    "\n",
    "for res in tqdm(results):\n",
    "    seed = res[\"random_seed\"]\n",
    "    if seed in results_per_seed:\n",
    "        results_per_seed[seed].append(res)\n",
    "    else:\n",
    "        results_per_seed[seed] = [res]"
   ]
  },
  {
   "cell_type": "code",
   "execution_count": null,
   "metadata": {},
   "outputs": [],
   "source": [
    "plot_data_per_seed = dict()\n",
    "\n",
    "for seed in results_per_seed:\n",
    "    x = []\n",
    "    y = []\n",
    "    z = []\n",
    "    z_lfp = []\n",
    "    \n",
    "    for res in results_per_seed[seed]:\n",
    "        x.append(res[\"stim_amplitude\"])\n",
    "        y.append(res[\"dc_offset\"])\n",
    "        z.append(res[\"beta\"])\n",
    "        z_lfp.append(res[\"beta_lfp\"])\n",
    "    x = np.array(x)\n",
    "    y = np.array(y)\n",
    "    xi = np.arange(x.min(), x.max(), 0.001)\n",
    "    yi = np.arange(y.min(), y.max(), 0.001)\n",
    "    xi, yi = np.meshgrid(xi, yi)\n",
    "    zi = griddata((x, y), z, (xi, yi), \"linear\")\n",
    "    zi_lfp = griddata((x, y), z_lfp, (xi, yi), \"linear\")\n",
    "    plot_data_per_seed[seed] = {\n",
    "        \"x\": x,\n",
    "        \"y\": y,\n",
    "        \"xi\": xi,\n",
    "        \"yi\": yi,\n",
    "        \"zi\": zi,\n",
    "        \"zi_lfp\": zi_lfp,\n",
    "    }"
   ]
  },
  {
   "cell_type": "code",
   "execution_count": null,
   "metadata": {},
   "outputs": [],
   "source": [
    "for seed in plot_data_per_seed:\n",
    "    res = plot_data_per_seed[seed]\n",
    "    xi = res[\"xi\"]\n",
    "    yi = res[\"yi\"]\n",
    "    zi = res[\"zi\"]\n",
    "    zi_lfp = res[\"zi_lfp\"]\n",
    "    x = res[\"x\"]\n",
    "    y = res[\"y\"]\n",
    "    \n",
    "    fig = plt.figure(figsize=(30, 15))\n",
    "    ax = fig.add_axes([0, 0, 1, 1])\n",
    "    u.plot_colormap(fig, ax, x_orig=x, y_orig=y, x=xi, y=yi, z=zi, show_xy=True, cmap=cm.Reds)\n",
    "    u.format_single_2d_plot(fig, \"Stimulation amplitude [V]\", \"DC offset [nA]\", f\"Controller-reported beta amplitude (seed {seed})\")\n",
    "    \n",
    "    fig = plt.figure(figsize=(30, 15))\n",
    "    ax = fig.add_axes([0, 0, 1, 1])\n",
    "    u.plot_colormap(fig, ax, x_orig=x, y_orig=y, x=xi, y=yi, z=zi_lfp, show_xy=True, cmap=cm.Reds)\n",
    "    u.format_single_2d_plot(fig, \"Stimulation amplitude [V]\", \"DC offset [nA]\", f\"Beta power from STN LFP (seed {seed})\")"
   ]
  },
  {
   "cell_type": "code",
   "execution_count": null,
   "metadata": {},
   "outputs": [],
   "source": [
    "z_arrays = [plot_data_per_seed[e][\"zi\"] for e in plot_data_per_seed]\n",
    "z_stacked = np.stack(z_arrays)\n",
    "z_avg = np.mean(z_stacked, 0)\n",
    "z_std = np.std(z_stacked, 0)"
   ]
  },
  {
   "cell_type": "code",
   "execution_count": null,
   "metadata": {},
   "outputs": [],
   "source": [
    "z_arrays_lfp = [plot_data_per_seed[e][\"zi_lfp\"] for e in plot_data_per_seed]\n",
    "z_stacked_lfp = np.stack(z_arrays_lfp)\n",
    "z_avg_lfp = np.mean(z_stacked_lfp, 0)\n",
    "z_std_lfp = np.std(z_stacked_lfp, 0)"
   ]
  },
  {
   "cell_type": "code",
   "execution_count": null,
   "metadata": {},
   "outputs": [],
   "source": [
    "fig = plt.figure(figsize=(30, 15))\n",
    "ax = fig.add_axes([0, 0, 1, 1])\n",
    "u.plot_colormap(fig, ax, x_orig=x, y_orig=y, x=xi, y=yi, z=z_avg, cmap=cm.Reds)\n",
    "u.format_single_2d_plot(fig, \"Stimulation amplitude [V]\", \"DC offset [nA]\", f\"Controller-reported beta amplitude average (N={z_stacked.shape[0]})\")\n",
    "\n",
    "fig = plt.figure(figsize=(30, 15))\n",
    "ax = fig.add_axes([0, 0, 1, 1])\n",
    "u.plot_colormap(fig, ax, x_orig=x, y_orig=y, x=xi, y=yi, z=z_avg_lfp, cmap=cm.Reds)\n",
    "u.format_single_2d_plot(fig, \"Stimulation amplitude [V]\", \"DC offset [nA]\", f\"Beta power from STN LFP average (N={z_stacked.shape[0]})\")"
   ]
  },
  {
   "cell_type": "code",
   "execution_count": null,
   "metadata": {},
   "outputs": [],
   "source": [
    "offset_list = yi[:, 0]\n",
    "amplitude_list = xi[0, :]\n",
    "\n",
    "@interact(dc_offset = widgets.FloatSlider(min=-0.05, max=0.05, step=0.005, value=0))\n",
    "def plot_beta_slice(dc_offset=0):\n",
    "    index = np.abs(offset_list - dc_offset).argmin()\n",
    "    beta_avg = z_avg[index, :]\n",
    "    beta_std = z_std[index, :]\n",
    "    fig = plt.figure(figsize=(22, 5))\n",
    "    plt.plot(amplitude_list, beta_avg, color=\"#8C031A\")\n",
    "    plt.fill_between(amplitude_list, beta_avg - beta_std, beta_avg + beta_std, color=\"#FC738A\")\n",
    "    plt.axhline(1.0414e-04, color=\"#000000\", linestyle=\"--\")\n",
    "    ax = plt.gca()\n",
    "    ax.set_ylim([0, 0.0002])\n",
    "    u.format_single_axis(ax, \"Stimulation amplitude [v]\", \"Beta power ARV\", \"\")\n",
    "    \n",
    "    \n"
   ]
  },
  {
   "cell_type": "code",
   "execution_count": null,
   "metadata": {},
   "outputs": [],
   "source": [
    "plot_beta_slice(dc_offset=0)\n",
    "plt.savefig(\"beta_slice_0.svg\", bbox_inches=\"tight\")"
   ]
  }
 ],
 "metadata": {
  "kernelspec": {
   "display_name": "Python 3 (ipykernel)",
   "language": "python",
   "name": "python3"
  },
  "language_info": {
   "codemirror_mode": {
    "name": "ipython",
    "version": 3
   },
   "file_extension": ".py",
   "mimetype": "text/x-python",
   "name": "python",
   "nbconvert_exporter": "python",
   "pygments_lexer": "ipython3",
   "version": "3.9.17"
  }
 },
 "nbformat": 4,
 "nbformat_minor": 4
}
