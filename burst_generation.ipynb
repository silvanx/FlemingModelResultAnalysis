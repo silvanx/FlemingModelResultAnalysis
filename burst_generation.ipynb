{
 "cells": [
  {
   "cell_type": "code",
   "execution_count": null,
   "metadata": {},
   "outputs": [],
   "source": [
    "import numpy as np\n",
    "import matplotlib.pyplot as plt\n",
    "import plot_utils as u\n",
    "from scipy.optimize import curve_fit"
   ]
  },
  {
   "cell_type": "code",
   "execution_count": null,
   "metadata": {},
   "outputs": [],
   "source": [
    "n = 20000000\n",
    "\n",
    "# Inter-burst time approximation from Tinkhauser et al., 2017 https://doi.org/10.1093/brain/awx252\n",
    "# They only gave mean and standard deviation of the burst probability, I assumed normal distribution\n",
    "# and fitted the reciprocal distribution to the data\n",
    "\n",
    "variable_ld = np.random.normal(0.58, 0.056, n)\n",
    "inverse_ld = 1 / variable_ld\n",
    "variable_pd = np.random.normal(0.7, 0.03, n)\n",
    "inverse_pd = 1 / variable_pd"
   ]
  },
  {
   "cell_type": "code",
   "execution_count": null,
   "metadata": {},
   "outputs": [],
   "source": [
    "def gaussian(x, c, x_mean, sigma):\n",
    "    return c * np.exp(-(x - x_mean) ** 2 / (2 * sigma ** 2))\n",
    "\n",
    "def wald(x, mean, scale, ampl):\n",
    "    a = ampl * np.sqrt(scale / (2 * np.pi * x ** 3))\n",
    "    return a * np.exp((-scale * (x - mean) ** 2) / (2 * x * mean ** 2))"
   ]
  },
  {
   "cell_type": "code",
   "execution_count": null,
   "metadata": {},
   "outputs": [],
   "source": [
    "plt.figure(figsize=(20, 10))\n",
    "# _, _, bars_variable = plt.hist(variable_ld, bins=np.arange(0.4, 1.0, 0.001))\n",
    "histogram, bin_edges, bars_inverse = plt.hist(inverse_ld, bins=np.arange(1, 3, 0.001))\n",
    "\n",
    "x_hist = np.zeros(len(histogram))\n",
    "for i in range(len(histogram)):\n",
    "    x_hist[i] = (bin_edges[i + 1] + bin_edges[i]) / 2\n",
    "\n",
    "y_hist = histogram\n",
    "\n",
    "param_optimised_ld, param_covariance_matrix = curve_fit(gaussian, x_hist, y_hist)\n",
    "param_optimised_wald_ld, param_covariance_matrix_wald = curve_fit(wald, x_hist, y_hist, maxfev=1000)\n",
    "line_fit = plt.plot(x_hist, gaussian(x_hist, *param_optimised_ld))\n",
    "line_fit_wald = plt.plot(x_hist, wald(x_hist, *param_optimised_wald_ld))\n",
    "plt.legend([bars_inverse, line_fit[0], line_fit_wald[0]], ['inverse', 'gaussian fit', 'wald fit'])\n"
   ]
  },
  {
   "cell_type": "code",
   "execution_count": null,
   "metadata": {},
   "outputs": [],
   "source": [
    "plt.figure(figsize=(20, 10))\n",
    "# _, _, bars_variable = plt.hist(variable_pd, bins=np.arange(0.4, 1.0, 0.001))\n",
    "histogram, bin_edges, bars_inverse = plt.hist(inverse_pd, bins=np.arange(1, 2, 0.001))\n",
    "\n",
    "x_hist = np.zeros(len(histogram))\n",
    "for i in range(len(histogram)):\n",
    "    x_hist[i] = (bin_edges[i + 1] + bin_edges[i]) / 2\n",
    "\n",
    "y_hist = histogram\n",
    "\n",
    "param_optimised_pd, param_covariance_matrix_pd = curve_fit(gaussian, x_hist, y_hist)\n",
    "param_optimised_wald_pd, param_covariance_matrix_wald_pd = curve_fit(wald, x_hist, y_hist, maxfev=1000)\n",
    "line_fit = plt.plot(x_hist, gaussian(x_hist, *param_optimised_pd))\n",
    "line_fit_wald = plt.plot(x_hist, wald(x_hist, *param_optimised_wald_pd))\n",
    "plt.legend([bars_inverse, line_fit[0], line_fit_wald[0]], ['inverse', 'gaussian fit', 'wald fit'])"
   ]
  },
  {
   "cell_type": "code",
   "execution_count": null,
   "metadata": {},
   "outputs": [],
   "source": [
    "print('PD params:')\n",
    "print(f'Wald: {param_optimised_wald_pd}')\n",
    "print(f'Gauss: {param_optimised_pd}')\n",
    "print('LD params:')\n",
    "print(f'Wald: {param_optimised_wald_ld}')\n",
    "print(f'Gauss: {param_optimised_ld}')"
   ]
  },
  {
   "cell_type": "code",
   "execution_count": null,
   "metadata": {},
   "outputs": [],
   "source": [
    "# CDF approximation of burst length distribution in LD ON (\"healthy\") and LD OFF (\"parkinsonian\") conditions from \n",
    "# Tinkhauser et al., 2017 https://doi.org/10.1093/brain/awx252\n",
    "\n",
    "ld_distribution = [\n",
    "    (0.1, 0.0),\n",
    "    (0.2, 0.39),\n",
    "    (0.3, 0.67),\n",
    "    (0.4, 0.84),\n",
    "    (0.5, 0.89),\n",
    "    (0.6, 0.93),\n",
    "    (0.7, 0.95),\n",
    "    (0.8, 0.97),\n",
    "    (0.9, 0.98),\n",
    "    (1.0, 1.0),\n",
    "    ]\n",
    "\n",
    "pd_distribution = [\n",
    "    (0.1, 0.0),\n",
    "    (0.2, 0.28),\n",
    "    (0.3, 0.53),\n",
    "    (0.4, 0.69),\n",
    "    (0.5, 0.79),\n",
    "    (0.6, 0.84),\n",
    "    (0.7, 0.88),\n",
    "    (0.8, 0.90),\n",
    "    (0.9, 0.92),\n",
    "    (1.0, 0.97),\n",
    "    (2.0, 0.99),\n",
    "    (4.0, 1.0),\n",
    "]\n",
    "\n",
    "ld_pause_mean = param_optimised_wald_ld[0]\n",
    "ld_pause_scale = param_optimised_wald_ld[1]\n",
    "\n",
    "pd_pause_mean = param_optimised_wald_pd[0]\n",
    "pd_pause_scale = param_optimised_wald_pd[0]"
   ]
  },
  {
   "cell_type": "code",
   "execution_count": null,
   "metadata": {},
   "outputs": [],
   "source": [
    "def inverse_distribution(distribution, value):\n",
    "    last_y = 0\n",
    "    last_x = 0\n",
    "    for x, y in distribution:\n",
    "        if y >= value and last_y < value:\n",
    "            return last_x + (value - last_y) * (x - last_x) / (y - last_y)\n",
    "        last_x = x\n",
    "        last_y = y"
   ]
  },
  {
   "cell_type": "code",
   "execution_count": null,
   "metadata": {},
   "outputs": [],
   "source": [
    "plt.figure()\n",
    "ax = plt.gca()\n",
    "ax.hist([inverse_distribution(ld_distribution, e) for e in np.random.random(100000)], alpha=0.5, bins=np.arange(0, 1.05, 0.1))\n",
    "ax.hist([inverse_distribution(pd_distribution, e) for e in np.random.random(100000)], alpha=0.5, bins=np.arange(0, 1.05, 0.1))\n",
    "plt.xlabel('Burst duration (s)')\n",
    "plt.legend(['LD ON', 'LD OFF'])"
   ]
  },
  {
   "cell_type": "code",
   "execution_count": null,
   "metadata": {},
   "outputs": [],
   "source": [
    "def generate_bursts(tstart, tstop, burst_length_distribution, burst_pause_mean, burst_pause_scale):\n",
    "    last_burst_time = tstart\n",
    "    burst_times = [tstart]\n",
    "    burst_amplitudes = [-1]\n",
    "    while last_burst_time < tstop:\n",
    "        pause_stop = last_burst_time + np.random.default_rng().wald(burst_pause_mean, burst_pause_scale)\n",
    "        burst_stop = pause_stop + inverse_distribution(burst_length_distribution, np.random.random())\n",
    "        burst_times.extend([pause_stop, burst_stop])\n",
    "        burst_amplitudes.extend([0, -1])\n",
    "        last_burst_time = burst_stop\n",
    "    return burst_times, burst_amplitudes"
   ]
  },
  {
   "cell_type": "code",
   "execution_count": null,
   "metadata": {},
   "outputs": [],
   "source": [
    "tstart = 6\n",
    "tstop = 30\n",
    "\n",
    "t, a = generate_bursts(tstart, tstop, pd_distribution, pd_pause_mean, pd_pause_scale)\n",
    "stt, modulation_signal = u.burst_txt_to_signal(t, a, tstart, tstop, 0.01)\n",
    "\n",
    "tld, ald = generate_bursts(tstart, tstop, ld_distribution, ld_pause_mean, ld_pause_scale)\n",
    "sttld, modulation_signalld = u.burst_txt_to_signal(tld, ald, tstart, tstop, 0.01)"
   ]
  },
  {
   "cell_type": "code",
   "execution_count": null,
   "metadata": {},
   "outputs": [],
   "source": [
    "plt.figure(figsize=(20, 10))\n",
    "plt.plot(1000 * stt, modulation_signal)\n",
    "plt.plot(1000 * sttld, 1.1 + modulation_signalld)"
   ]
  },
  {
   "cell_type": "code",
   "execution_count": null,
   "metadata": {},
   "outputs": [],
   "source": [
    "np.savetxt(\"burst_times_ld_on.txt\", [[1000 * e for e in tld]], delimiter=',')\n",
    "np.savetxt(\"burst_times_ld_off.txt\", [[1000 * e for e in t]], delimiter=',')\n",
    "np.savetxt(\"burst_level_ld_on.txt\", [ald], delimiter=',', fmt='%d')\n",
    "np.savetxt(\"burst_level_ld_off.txt\", [a], delimiter=',', fmt='%d')"
   ]
  }
 ],
 "metadata": {
  "kernelspec": {
   "display_name": "venv",
   "language": "python",
   "name": "python3"
  },
  "language_info": {
   "codemirror_mode": {
    "name": "ipython",
    "version": 3
   },
   "file_extension": ".py",
   "mimetype": "text/x-python",
   "name": "python",
   "nbconvert_exporter": "python",
   "pygments_lexer": "ipython3",
   "version": "3.9.5"
  },
  "vscode": {
   "interpreter": {
    "hash": "450f40dd396b1913861f0149d03f0192471eb9c72b00438423b03f564776f6b9"
   }
  }
 },
 "nbformat": 4,
 "nbformat_minor": 2
}
