{
 "cells": [
  {
   "cell_type": "code",
   "execution_count": null,
   "metadata": {},
   "outputs": [],
   "source": [
    "from neo import NeoMatlabIO\n",
    "import numpy as np\n",
    "import matplotlib.pyplot as plt\n",
    "import plot_utils as u\n",
    "from pathlib import Path\n",
    "import scipy.signal as signal"
   ]
  },
  {
   "cell_type": "code",
   "execution_count": null,
   "metadata": {},
   "outputs": [],
   "source": [
    "colors = {\n",
    "    \"pyramidal\": \"#1446A0\",\n",
    "    \"interneuron\": \"#929982\",\n",
    "    \"nostim\": \"#326273\",\n",
    "    \"stim\": \"#FF8248\",\n",
    "    \"modulation\": \"#CCFF66\",\n",
    "}"
   ]
  },
  {
   "cell_type": "code",
   "execution_count": null,
   "metadata": {},
   "outputs": [],
   "source": [
    "open_dir = Path(\"cortex_lfp\") / \"OPEN-20240213184346-1\"\n",
    "zero_dir = Path(\"cortex_lfp\") / \"ZERO-20240213183346-1\""
   ]
  },
  {
   "cell_type": "code",
   "execution_count": null,
   "metadata": {},
   "outputs": [],
   "source": [
    "ctx_lfp_dir_zero = zero_dir / \"Cortical_Pop\"\n",
    "interneuron_lfp_dir_zero = zero_dir / \"Interneuron_Pop\""
   ]
  },
  {
   "cell_type": "code",
   "execution_count": null,
   "metadata": {},
   "outputs": [],
   "source": [
    "ctx_lfp_dir_open = open_dir / \"Cortical_Pop\"\n",
    "interneuron_lfp_dir_open = open_dir / \"Interneuron_Pop\""
   ]
  },
  {
   "cell_type": "code",
   "execution_count": null,
   "metadata": {},
   "outputs": [],
   "source": [
    "electrode_count = 3\n",
    "electrode_distance = 0.4\n",
    "excluded_radius = 0.06\n",
    "min_radius = 0.01\n",
    "max_radius = 1\n",
    "\n",
    "sigma = 0.27"
   ]
  },
  {
   "cell_type": "code",
   "execution_count": null,
   "metadata": {},
   "outputs": [],
   "source": [
    "position_ctx = u.generate_random_cell_xy_positions(min_radius, max_radius, 100)\n",
    "position_int = u.generate_random_cell_xy_positions(min_radius, max_radius, 100)\n",
    "\n",
    "electrode_y = u.generate_electrode_positions(electrode_count, electrode_distance)"
   ]
  },
  {
   "cell_type": "code",
   "execution_count": null,
   "metadata": {},
   "outputs": [],
   "source": [
    "u.plot_ctx_cell_and_electrode_location(\n",
    "    position_ctx,\n",
    "    position_int,\n",
    "    ([0 for _ in electrode_y], electrode_y),\n",
    "    excluded_radius,\n",
    "    max_radius\n",
    ")"
   ]
  },
  {
   "cell_type": "code",
   "execution_count": null,
   "metadata": {},
   "outputs": [],
   "source": [
    "# %matplotlib widget\n",
    "# plt.figure()\n",
    "# plt.plot(tt, lfp_ctx, color=\"#1446A0\", alpha=0.6)\n",
    "# plt.plot(tt, lfp_int, color=\"#929982\", alpha=0.6)\n",
    "# plt.plot(tt, lfp_both, color=\"black\") \n",
    "# plt.legend([\"Ctx\", \"Interneuron\", \"LFP\"])\n",
    "# plt.xlim([3400, 3901])\n",
    "# plt.xlabel(\"Time [ms]\")\n",
    "# plt.ylabel(\"Voltage [$\\mu$V]\")"
   ]
  },
  {
   "cell_type": "code",
   "execution_count": null,
   "metadata": {},
   "outputs": [],
   "source": [
    "tt_zero, electrode_lfp_zero = u.compute_cortical_lfp(\n",
    "    ctx_lfp_dir_zero,\n",
    "    interneuron_lfp_dir_zero,\n",
    "    electrode_y,\n",
    "    position_ctx,\n",
    "    position_int,\n",
    "    excluded_radius,\n",
    "    sigma,\n",
    "    )\n"
   ]
  },
  {
   "cell_type": "code",
   "execution_count": null,
   "metadata": {},
   "outputs": [],
   "source": [
    "tt_open, electrode_lfp_open = u.compute_cortical_lfp(\n",
    "    ctx_lfp_dir_open,\n",
    "    interneuron_lfp_dir_open,\n",
    "    electrode_y,\n",
    "    position_ctx,\n",
    "    position_int,\n",
    "    excluded_radius,\n",
    "    sigma,\n",
    "    )\n"
   ]
  },
  {
   "cell_type": "code",
   "execution_count": null,
   "metadata": {},
   "outputs": [],
   "source": [
    "tt = np.loadtxt(\"../../Cortex_BasalGanglia_DBS_model/burst_times_1.txt\", delimiter=\",\")\n",
    "aa = np.loadtxt(\"../../Cortex_BasalGanglia_DBS_model/burst_level_1.txt\", delimiter=\",\")\n",
    "stt, modulation_signal = u.burst_txt_to_signal(tt, aa, 10_000, 16_000, 0.01)"
   ]
  },
  {
   "cell_type": "code",
   "execution_count": null,
   "metadata": {},
   "outputs": [],
   "source": [
    "s = 10\n",
    "e = 12\n",
    "\n",
    "show_modulation = False\n",
    "\n",
    "for i in range(electrode_count):\n",
    "    fig = plt.figure(figsize=(12, 12))\n",
    "    ax_voltage_nostim = fig.add_subplot(2, 2, 1)\n",
    "    ax_voltage_stim = fig.add_subplot(2, 2, 3, sharex=ax_voltage_nostim)\n",
    "    ax_spectrum = fig.add_subplot(1, 2, 2)\n",
    "\n",
    "    elfp = electrode_lfp_zero[i]\n",
    "    ax_voltage_nostim.plot(tt_zero / 1000, elfp, color=colors[\"nostim\"])\n",
    "    f, pxx = signal.welch(elfp[tt_zero >= 10_000], fs=2000, window=\"hamming\", nperseg=2000)\n",
    "    ax_spectrum.plot(f, np.log(pxx), color=colors[\"nostim\"])\n",
    "    if show_modulation:\n",
    "        ax_voltage_nostim.plot(stt / 1000, modulation_signal + np.mean(elfp[tt_zero >= 10_000]), color=colors[\"modulation\"])\n",
    "    ax_voltage_nostim.set_xlim([s, e])\n",
    "    ax_voltage_nostim.set_xlabel(\"Time [s]\")\n",
    "    ax_voltage_nostim.set_ylabel(\"Voltage [$\\mu$V]\")\n",
    "    ax_voltage_nostim.set_title(\"nostim\")\n",
    "\n",
    "    elfp = electrode_lfp_open[i]\n",
    "    ax_voltage_stim.plot(tt_open / 1000, elfp, color=colors[\"stim\"])\n",
    "    f, pxx = signal.welch(elfp[tt_zero >= 10_000], fs=2000, window=\"hamming\", nperseg=2000)\n",
    "    ax_spectrum.plot(f, np.log(pxx), color=colors[\"stim\"])\n",
    "    if show_modulation:\n",
    "        ax_voltage_stim.plot(stt / 1000, modulation_signal + np.mean(elfp[tt_open >= 10_000]), color=colors[\"modulation\"])\n",
    "    ax_voltage_stim.set_xlim([s, e])\n",
    "    ax_voltage_stim.set_xlabel(\"Time [s]\")\n",
    "    ax_voltage_stim.set_ylabel(\"Voltage [$\\mu$V]\")\n",
    "    ax_voltage_stim.set_title(\"open loop stim\")\n",
    "\n",
    "    ax_spectrum.set_title(\"Power spectrum (semilog scale)\")\n",
    "    ax_spectrum.set_xlim([10, 60])\n",
    "    ax_spectrum.set_xlabel(\"Frequency [Hz]\")\n",
    "    fig.suptitle(f\"Cortical LFP and its spectrum from model (electrode {i})\")\n"
   ]
  },
  {
   "cell_type": "code",
   "execution_count": null,
   "metadata": {},
   "outputs": [],
   "source": [
    "patient_data_dir = Path(\"C:\\\\Users\\\\Kuba Orlowski\\\\Downloads\\\\Charite project\")\n",
    "patient_stim_on_file = patient_data_dir / \"sub-EL006_ses-EcogLfpMedOff01_task-Rest_acq-StimOnR.mat\"\n",
    "patient_stim_off_file = patient_data_dir / \"sub-EL006_ses-EcogLfpMedOff01_task-Rest_acq-StimOff.mat\""
   ]
  },
  {
   "cell_type": "code",
   "execution_count": null,
   "metadata": {},
   "outputs": [],
   "source": [
    "import mat73\n",
    "patient_stim_off_data = mat73.loadmat(patient_stim_off_file, use_attrdict=True)\n",
    "patient_stim_on_data = mat73.loadmat(patient_stim_on_file, use_attrdict=True)"
   ]
  },
  {
   "cell_type": "code",
   "execution_count": null,
   "metadata": {},
   "outputs": [],
   "source": [
    "tt_off = patient_stim_off_data[\"data\"].time[0]\n",
    "tt_on = patient_stim_on_data[\"data\"].time[0]\n",
    "fs_off = 1 / (tt_off[1] - tt_off[0])\n",
    "fs_on = 1 / (tt_on[1] - tt_on[0])\n",
    "\n",
    "f_on, p_on = signal.welch(patient_stim_on_data[\"data\"][\"trial\"][0][1:8, :], fs=fs_on, window=\"hamming\", nperseg=int(fs_on))\n",
    "f_off, p_off = signal.welch(patient_stim_off_data[\"data\"][\"trial\"][0][1:8, :], fs=fs_off, window=\"hamming\", nperseg=int(fs_off))"
   ]
  },
  {
   "cell_type": "code",
   "execution_count": null,
   "metadata": {},
   "outputs": [],
   "source": [
    "plt.figure(figsize=(10, 5))\n",
    "plt.plot(f_on, np.log(np.mean(p_on, axis=0)), color=colors[\"stim\"])\n",
    "plt.plot(f_off, np.log(np.mean(p_off, axis=0)), color=colors[\"nostim\"])\n",
    "plt.xlim([10, 60])\n",
    "plt.ylim([-3, 3])\n",
    "plt.xlabel(\"Frequency [Hz]\")\n",
    "plt.title(\"Average power spectrum from all ECoG patient electrodes\")\n",
    "plt.legend([\"stim\", \"nostim\"])"
   ]
  },
  {
   "cell_type": "code",
   "execution_count": null,
   "metadata": {},
   "outputs": [],
   "source": [
    "stn_lfp_zero = NeoMatlabIO(Path(\"cortex_lfp\") / \"ZERO-20240213183346-1\" / \"STN_LFP.mat\").read()[0].segments[0].analogsignals[0]\n",
    "stn_lfp_open = NeoMatlabIO(Path(\"cortex_lfp\") / \"OPEN-20240213184346-1\" / \"STN_LFP.mat\").read()[0].segments[0].analogsignals[0]\n"
   ]
  },
  {
   "cell_type": "code",
   "execution_count": null,
   "metadata": {},
   "outputs": [],
   "source": [
    "dbs_zero = NeoMatlabIO(Path(\"cortex_lfp\") / \"ZERO-20240213183346-1\" / \"DBS_Signal.mat\").read()[0].segments[0].analogsignals[0]\n",
    "dbs_open = NeoMatlabIO(Path(\"cortex_lfp\") / \"OPEN-20240213184346-1\" / \"DBS_Signal.mat\").read()[0].segments[0].analogsignals[0]"
   ]
  },
  {
   "cell_type": "code",
   "execution_count": null,
   "metadata": {},
   "outputs": [],
   "source": [
    "plt.figure()\n",
    "plt.plot(stn_lfp_zero.times / 1000, stn_lfp_zero, color=colors[\"nostim\"])\n",
    "plt.plot(stn_lfp_open.times / 1000, stn_lfp_open, color=colors[\"stim\"])\n",
    "plt.xlim([9, 15])\n",
    "plt.legend([\"Nostim\", \"Open loop stim\"])\n",
    "plt.title(\"STN LFP (model)\")\n",
    "\n",
    "f_open, pxx_open = signal.welch(stn_lfp_open.as_array().transpose()[0], 2000)\n",
    "f_zero, pxx_zero = signal.welch(stn_lfp_zero.as_array().transpose()[0], 2000)\n",
    "\n",
    "plt.figure()\n",
    "plt.plot(f_zero, pxx_zero, color=colors[\"nostim\"])\n",
    "plt.plot(f_open, pxx_open, color=colors[\"stim\"])\n",
    "plt.xlim([0, 100])\n",
    "plt.legend([\"Nostim\", \"Open loop stim\"])\n",
    "plt.title(\"STN LFP power spectrum (model)\")\n"
   ]
  }
 ],
 "metadata": {
  "kernelspec": {
   "display_name": "flemingmodel",
   "language": "python",
   "name": "python3"
  },
  "language_info": {
   "codemirror_mode": {
    "name": "ipython",
    "version": 3
   },
   "file_extension": ".py",
   "mimetype": "text/x-python",
   "name": "python",
   "nbconvert_exporter": "python",
   "pygments_lexer": "ipython3",
   "version": "3.9.17"
  }
 },
 "nbformat": 4,
 "nbformat_minor": 2
}
