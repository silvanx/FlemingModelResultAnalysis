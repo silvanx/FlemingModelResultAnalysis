{
 "cells": [
  {
   "cell_type": "code",
   "execution_count": 7,
   "metadata": {},
   "outputs": [],
   "source": [
    "import matplotlib.pyplot as plt\n",
    "import plot_utils as u\n",
    "import csv\n",
    "from pathlib import Path\n",
    "import numpy as np\n",
    "import pandas as pd\n",
    "import seaborn as sns"
   ]
  },
  {
   "cell_type": "code",
   "execution_count": 8,
   "metadata": {},
   "outputs": [],
   "source": [
    "dir = Path('Zero_MPI_comparison/4s-new/')"
   ]
  },
  {
   "cell_type": "code",
   "execution_count": 9,
   "metadata": {},
   "outputs": [
    {
     "ename": "FileNotFoundError",
     "evalue": "[WinError 3] System nie może odnaleźć określonej ścieżki: 'Zero_MPI_comparison\\\\4s-new'",
     "output_type": "error",
     "traceback": [
      "\u001b[1;31m---------------------------------------------------------------------------\u001b[0m",
      "\u001b[1;31mFileNotFoundError\u001b[0m                         Traceback (most recent call last)",
      "\u001b[1;32mc:\\cic\\wrk\\20230324_John_model\\Simulation_Output_Results\\plot_lfp_params.ipynb Cell 3\u001b[0m in \u001b[0;36m<cell line: 1>\u001b[1;34m()\u001b[0m\n\u001b[1;32m----> <a href='vscode-notebook-cell:/c%3A/cic/wrk/20230324_John_model/Simulation_Output_Results/plot_lfp_params.ipynb#W2sZmlsZQ%3D%3D?line=0'>1</a>\u001b[0m res_dirs \u001b[39m=\u001b[39m [d \u001b[39mfor\u001b[39;00m d \u001b[39min\u001b[39;00m \u001b[39mdir\u001b[39m\u001b[39m.\u001b[39miterdir() \u001b[39mif\u001b[39;00m d\u001b[39m.\u001b[39mis_dir()]\n\u001b[0;32m      <a href='vscode-notebook-cell:/c%3A/cic/wrk/20230324_John_model/Simulation_Output_Results/plot_lfp_params.ipynb#W2sZmlsZQ%3D%3D?line=1'>2</a>\u001b[0m res_dirs\u001b[39m.\u001b[39msort(key\u001b[39m=\u001b[39m\u001b[39mlambda\u001b[39;00m s: \u001b[39mint\u001b[39m(s\u001b[39m.\u001b[39mname\u001b[39m.\u001b[39msplit(\u001b[39m'\u001b[39m\u001b[39m_mpi\u001b[39m\u001b[39m'\u001b[39m)[\u001b[39m-\u001b[39m\u001b[39m1\u001b[39m]))\n\u001b[0;32m      <a href='vscode-notebook-cell:/c%3A/cic/wrk/20230324_John_model/Simulation_Output_Results/plot_lfp_params.ipynb#W2sZmlsZQ%3D%3D?line=2'>3</a>\u001b[0m num_results \u001b[39m=\u001b[39m \u001b[39mlen\u001b[39m(res_dirs)\n",
      "\u001b[1;32mc:\\cic\\wrk\\20230324_John_model\\Simulation_Output_Results\\plot_lfp_params.ipynb Cell 3\u001b[0m in \u001b[0;36m<listcomp>\u001b[1;34m(.0)\u001b[0m\n\u001b[1;32m----> <a href='vscode-notebook-cell:/c%3A/cic/wrk/20230324_John_model/Simulation_Output_Results/plot_lfp_params.ipynb#W2sZmlsZQ%3D%3D?line=0'>1</a>\u001b[0m res_dirs \u001b[39m=\u001b[39m [d \u001b[39mfor\u001b[39;00m d \u001b[39min\u001b[39;00m \u001b[39mdir\u001b[39m\u001b[39m.\u001b[39miterdir() \u001b[39mif\u001b[39;00m d\u001b[39m.\u001b[39mis_dir()]\n\u001b[0;32m      <a href='vscode-notebook-cell:/c%3A/cic/wrk/20230324_John_model/Simulation_Output_Results/plot_lfp_params.ipynb#W2sZmlsZQ%3D%3D?line=1'>2</a>\u001b[0m res_dirs\u001b[39m.\u001b[39msort(key\u001b[39m=\u001b[39m\u001b[39mlambda\u001b[39;00m s: \u001b[39mint\u001b[39m(s\u001b[39m.\u001b[39mname\u001b[39m.\u001b[39msplit(\u001b[39m'\u001b[39m\u001b[39m_mpi\u001b[39m\u001b[39m'\u001b[39m)[\u001b[39m-\u001b[39m\u001b[39m1\u001b[39m]))\n\u001b[0;32m      <a href='vscode-notebook-cell:/c%3A/cic/wrk/20230324_John_model/Simulation_Output_Results/plot_lfp_params.ipynb#W2sZmlsZQ%3D%3D?line=2'>3</a>\u001b[0m num_results \u001b[39m=\u001b[39m \u001b[39mlen\u001b[39m(res_dirs)\n",
      "File \u001b[1;32mC:\\Python39\\lib\\pathlib.py:1150\u001b[0m, in \u001b[0;36mPath.iterdir\u001b[1;34m(self)\u001b[0m\n\u001b[0;32m   1146\u001b[0m \u001b[39mdef\u001b[39;00m \u001b[39miterdir\u001b[39m(\u001b[39mself\u001b[39m):\n\u001b[0;32m   1147\u001b[0m     \u001b[39m\"\"\"Iterate over the files in this directory.  Does not yield any\u001b[39;00m\n\u001b[0;32m   1148\u001b[0m \u001b[39m    result for the special paths '.' and '..'.\u001b[39;00m\n\u001b[0;32m   1149\u001b[0m \u001b[39m    \"\"\"\u001b[39;00m\n\u001b[1;32m-> 1150\u001b[0m     \u001b[39mfor\u001b[39;00m name \u001b[39min\u001b[39;00m \u001b[39mself\u001b[39;49m\u001b[39m.\u001b[39;49m_accessor\u001b[39m.\u001b[39;49mlistdir(\u001b[39mself\u001b[39;49m):\n\u001b[0;32m   1151\u001b[0m         \u001b[39mif\u001b[39;00m name \u001b[39min\u001b[39;00m {\u001b[39m'\u001b[39m\u001b[39m.\u001b[39m\u001b[39m'\u001b[39m, \u001b[39m'\u001b[39m\u001b[39m..\u001b[39m\u001b[39m'\u001b[39m}:\n\u001b[0;32m   1152\u001b[0m             \u001b[39m# Yielding a path object for these makes little sense\u001b[39;00m\n\u001b[0;32m   1153\u001b[0m             \u001b[39mcontinue\u001b[39;00m\n",
      "\u001b[1;31mFileNotFoundError\u001b[0m: [WinError 3] System nie może odnaleźć określonej ścieżki: 'Zero_MPI_comparison\\\\4s-new'"
     ]
    }
   ],
   "source": [
    "res_dirs = [d for d in dir.iterdir() if d.is_dir()]\n",
    "res_dirs.sort(key=lambda s: int(s.name.split('_mpi')[-1]))\n",
    "num_results = len(res_dirs)"
   ]
  },
  {
   "cell_type": "code",
   "execution_count": 10,
   "metadata": {},
   "outputs": [
    {
     "ename": "NameError",
     "evalue": "name 'num_results' is not defined",
     "output_type": "error",
     "traceback": [
      "\u001b[1;31m---------------------------------------------------------------------------\u001b[0m",
      "\u001b[1;31mNameError\u001b[0m                                 Traceback (most recent call last)",
      "\u001b[1;32mc:\\cic\\wrk\\20230324_John_model\\Simulation_Output_Results\\plot_lfp_params.ipynb Cell 4\u001b[0m in \u001b[0;36m<cell line: 1>\u001b[1;34m()\u001b[0m\n\u001b[1;32m----> <a href='vscode-notebook-cell:/c%3A/cic/wrk/20230324_John_model/Simulation_Output_Results/plot_lfp_params.ipynb#W3sZmlsZQ%3D%3D?line=0'>1</a>\u001b[0m fig, axs \u001b[39m=\u001b[39m plt\u001b[39m.\u001b[39msubplots(num_results, \u001b[39m3\u001b[39m, figsize\u001b[39m=\u001b[39m(\u001b[39m28\u001b[39m, num_results \u001b[39m*\u001b[39m \u001b[39m4\u001b[39m))\n\u001b[0;32m      <a href='vscode-notebook-cell:/c%3A/cic/wrk/20230324_John_model/Simulation_Output_Results/plot_lfp_params.ipynb#W3sZmlsZQ%3D%3D?line=1'>2</a>\u001b[0m axs_diff \u001b[39m=\u001b[39m []\n\u001b[0;32m      <a href='vscode-notebook-cell:/c%3A/cic/wrk/20230324_John_model/Simulation_Output_Results/plot_lfp_params.ipynb#W3sZmlsZQ%3D%3D?line=2'>3</a>\u001b[0m range_diff \u001b[39m=\u001b[39m \u001b[39m0\u001b[39m\n",
      "\u001b[1;31mNameError\u001b[0m: name 'num_results' is not defined"
     ]
    }
   ],
   "source": [
    "fig, axs = plt.subplots(num_results, 3, figsize=(28, num_results * 4))\n",
    "axs_diff = []\n",
    "range_diff = 0\n",
    "range_lfp = 0\n",
    "range_beta = 0\n",
    "range_hist = 0\n",
    "\n",
    "quant = {\n",
    "    \"threads\": [],\n",
    "    \"LFP mean\": [],\n",
    "    \"LFP var\": [],\n",
    "    \"beta mean\": [],\n",
    "    \"beta var\": [],\n",
    "    \"dbeta mean\": [],\n",
    "    \"dbeta var\": []\n",
    "}\n",
    "\n",
    "for i, d in enumerate(res_dirs):\n",
    "    controller_t, _, controller_beta = u.load_controller_data(d, None)\n",
    "    time_max = controller_t[-1] * 1000\n",
    "    tt, rec = u.load_stn_lfp(d, 6000, time_max)\n",
    "    if num_results > 1:\n",
    "        axs[i, 0].plot(tt / 1000, rec['signal'])\n",
    "        axs[i, 0].set_title(d.name)\n",
    "        axs[i, 1].plot(controller_t, controller_beta)\n",
    "    else:\n",
    "        axs[0].plot(tt / 1000, rec['signal'])\n",
    "        axs[0].set_title(d.name)\n",
    "        axs[1].plot(controller_t, controller_beta)\n",
    "    diff_beta = np.diff(controller_beta)\n",
    "    if np.max(np.abs(diff_beta)) > range_diff:\n",
    "        range_diff = np.max(np.abs(diff_beta))\n",
    "    if np.max(np.abs(rec['signal'])) > range_lfp:\n",
    "        range_lfp = np.max(np.abs(rec['signal']))\n",
    "    if np.max(np.abs(controller_beta)) > range_beta:\n",
    "        range_beta = np.max(np.abs(controller_beta))\n",
    "    if num_results > 1:\n",
    "        ax2 = axs[i, 1].twinx()\n",
    "    else:\n",
    "        ax2 = axs[1].twinx()\n",
    "    axs_diff.append(ax2)\n",
    "    ax2.plot(controller_t[:-1], diff_beta, color='orange')\n",
    "    if num_results > 1:\n",
    "        h = axs[i, 2].hist(diff_beta, bins=30, color='orange', orientation='horizontal')\n",
    "    else:\n",
    "        h = axs[2].hist(diff_beta, bins=30, color='orange', orientation='horizontal')\n",
    "    if h[0].max() > range_hist:\n",
    "        range_hist = h[0].max()\n",
    "    print(f\"{d.name}:\\n\\tLFP mean: {rec['signal'].mean()}, var: {rec['signal'].var()}\\n\"\n",
    "          f\"\\tbeta mean: {controller_beta.mean()}, beta var: {controller_beta.var()}\\n\"\n",
    "          f\"\\tbeta' mean: {diff_beta.mean()}, var: {diff_beta.var()}\")\n",
    "    quant[\"threads\"].append(int(d.name.split(\"_mpi\")[-1]))\n",
    "    quant[\"LFP mean\"].append(rec['signal'].mean())\n",
    "    quant[\"LFP var\"].append(rec['signal'].var())\n",
    "    quant[\"beta mean\"].append(controller_beta.mean())\n",
    "    quant[\"beta var\"].append(controller_beta.var())\n",
    "    quant[\"dbeta mean\"].append(diff_beta.mean())\n",
    "    quant[\"dbeta var\"].append(diff_beta.var())\n",
    "    \n",
    "    \n",
    "range_diff *= 1.1\n",
    "range_lfp *= 1.1\n",
    "range_beta *= 1.1\n",
    "for i, ax in enumerate(axs_diff):\n",
    "    ax.set_ylim([-range_diff, range_diff])\n",
    "    if num_results > 1:\n",
    "        axs[i, 2].set_ylim([-range_diff, range_diff])\n",
    "        axs[i, 2].set_xlim([0, range_hist])\n",
    "        axs[i, 1].set_ylim([-range_beta, range_beta])\n",
    "        axs[i, 0].set_ylim([-range_lfp, range_lfp])\n",
    "    else:\n",
    "        axs[2].set_ylim([-range_diff, range_diff])\n",
    "        axs[2].set_xlim([0, range_hist])\n",
    "        axs[1].set_ylim([-range_beta, range_beta])\n",
    "        axs[0].set_ylim([-range_lfp, range_lfp])"
   ]
  },
  {
   "cell_type": "code",
   "execution_count": null,
   "metadata": {},
   "outputs": [],
   "source": [
    "df = pd.DataFrame(quant)"
   ]
  },
  {
   "cell_type": "code",
   "execution_count": null,
   "metadata": {},
   "outputs": [],
   "source": [
    "markersize = 10\n",
    "fontsize = 20\n",
    "fig, axs = plt.subplots(2, 3, figsize=(27, 17))\n",
    "\n",
    "sns.swarmplot(df, x=\"threads\", y=\"LFP mean\", ax=axs[0, 0], size=markersize)\n",
    "axs[0, 0].set_title(\"LFP mean\", fontsize=fontsize)\n",
    "sns.swarmplot(df, x=\"threads\", y=\"LFP var\", ax=axs[1, 0], size=markersize)\n",
    "axs[1, 0].set_title(\"LFP variance\", fontsize=fontsize)\n",
    "sns.swarmplot(df, x=\"threads\", y=\"beta mean\", ax=axs[0, 1], size=markersize)\n",
    "axs[0, 1].set_title(\"Beta mean\", fontsize=fontsize)\n",
    "sns.swarmplot(df, x=\"threads\", y=\"beta var\", ax=axs[1, 1], size=markersize)\n",
    "axs[1, 1].set_title(\"Beta variance\", fontsize=fontsize)\n",
    "sns.swarmplot(df, x=\"threads\", y=\"dbeta mean\", ax=axs[0, 2], size=markersize)\n",
    "axs[0, 2].set_title(\"Beta' mean\", fontsize=fontsize)\n",
    "sns.swarmplot(df, x=\"threads\", y=\"dbeta var\", ax=axs[1, 2], size=markersize)\n",
    "axs[1, 2].set_title(\"Beta' variance\", fontsize=fontsize)\n",
    "\n",
    "for row in axs:\n",
    "    for a in row:\n",
    "        plt.setp(a.get_xticklabels(), fontsize=fontsize)\n",
    "        plt.setp(a.get_yticklabels(), fontsize=fontsize)\n",
    "        a.set_xlabel(\"Threads\", fontsize=fontsize)\n",
    "        a.yaxis.offsetText.set_fontsize(fontsize)\n",
    "        a.ticklabel_format(axis=\"y\", style=\"scientific\", scilimits=(0,0))\n",
    "        a.set_ylabel(None)\n",
    "\n",
    "plt.savefig(\"signal_params.png\", bbox_inches='tight', facecolor='white')\n"
   ]
  }
 ],
 "metadata": {
  "kernelspec": {
   "display_name": "Python 3.9.5 ('venv': venv)",
   "language": "python",
   "name": "python3"
  },
  "language_info": {
   "codemirror_mode": {
    "name": "ipython",
    "version": 3
   },
   "file_extension": ".py",
   "mimetype": "text/x-python",
   "name": "python",
   "nbconvert_exporter": "python",
   "pygments_lexer": "ipython3",
   "version": "3.9.5"
  },
  "vscode": {
   "interpreter": {
    "hash": "450f40dd396b1913861f0149d03f0192471eb9c72b00438423b03f564776f6b9"
   }
  }
 },
 "nbformat": 4,
 "nbformat_minor": 2
}
