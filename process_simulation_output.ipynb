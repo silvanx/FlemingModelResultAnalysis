{
 "cells": [
  {
   "cell_type": "code",
   "execution_count": null,
   "metadata": {},
   "outputs": [],
   "source": [
    "import re\n",
    "import numpy as np\n",
    "import matplotlib.pyplot as plt\n",
    "from pathlib import Path"
   ]
  },
  {
   "cell_type": "code",
   "execution_count": null,
   "metadata": {},
   "outputs": [],
   "source": [
    "def read_simulation_output(filename):\n",
    "    with open(filename, 'r') as f:\n",
    "        lines = [l for l in f]\n",
    "    return lines"
   ]
  },
  {
   "cell_type": "code",
   "execution_count": null,
   "metadata": {},
   "outputs": [],
   "source": [
    "result_dir = Path('Zero_MPI_comparison/4s-new')"
   ]
  },
  {
   "cell_type": "code",
   "execution_count": null,
   "metadata": {},
   "outputs": [],
   "source": [
    "lines_array = []\n",
    "for file in result_dir.glob(\"*.out\"):\n",
    "    lines_array.append(read_simulation_output(file))"
   ]
  },
  {
   "cell_type": "code",
   "execution_count": null,
   "metadata": {},
   "outputs": [],
   "source": [
    "def get_means_and_threads(lines):\n",
    "    threads = None\n",
    "    stn_lfp1_means = []\n",
    "    stn_lfp1_sums = []\n",
    "    stn_lfp2_means = []\n",
    "    stn_lfp2_sums = []\n",
    "    syn_i_means = []\n",
    "    syn_i_vars = []\n",
    "    syn_i_sums = []\n",
    "    electrode1_dist_means = []\n",
    "    electrode1_dist_sums = []\n",
    "    electrode2_dist_means = []\n",
    "    electrode2_dist_sums = []\n",
    "    \n",
    "    for line in lines:\n",
    "        if threads is None:\n",
    "            threads = int(re.search('^numprocs=(\\d+)$', line).groups()[0])\n",
    "            \n",
    "        mean1_regexp = re.search(\"_1 mean = ([0-9\\.\\-e]+)$\", line)\n",
    "        sum1_regexp = re.search(\"_1 sum = ([0-9\\.\\-e]+)$\", line)\n",
    "        mean2_regexp = re.search(\"_2 mean = ([0-9\\.\\-e]+)$\", line)\n",
    "        sum2_regexp = re.search(\"_2 sum = ([0-9\\.\\-e]+)$\", line)\n",
    "        stn_syn_i_mean_regexp = re.search(\"STN_Syn_i mean = ([0-9\\.\\-e]+)$\", line)\n",
    "        stn_syn_i_var_regexp = re.search(\"STN_Syn_i var = ([0-9\\.\\-e]+)$\", line)\n",
    "        stn_syn_i_sum_regexp = re.search(\"STN_Syn_i sum = ([0-9\\.\\-e]+)$\", line)\n",
    "        \n",
    "        electrode_1_dist_sum_regexp = re.search(\"electrode_1_distances sum = ([0-9\\.\\-e]+)$\", line)\n",
    "        electrode_1_dist_mean_regexp = re.search(\"electrode_1_distances mean = ([0-9\\.\\-e]+)$\", line)\n",
    "        electrode_2_dist_sum_regexp = re.search(\"electrode_2_distances sum = ([0-9\\.\\-e]+)$\", line)\n",
    "        electrode_2_dist_mean_regexp = re.search(\"electrode_2_distances mean = ([0-9\\.\\-e]+)$\", line)\n",
    "        \n",
    "        \n",
    "        if mean1_regexp is not None:\n",
    "            stn_lfp1_means.append(float(mean1_regexp.groups()[0]))\n",
    "        if sum1_regexp is not None:\n",
    "            stn_lfp1_sums.append(float(sum1_regexp.groups()[0]))\n",
    "        if mean2_regexp is not None:\n",
    "            stn_lfp2_means.append(float(mean2_regexp.groups()[0]))\n",
    "        if sum2_regexp is not None:\n",
    "            stn_lfp2_sums.append(float(sum2_regexp.groups()[0]))\n",
    "        if stn_syn_i_mean_regexp is not None:\n",
    "            syn_i_means.append(float(stn_syn_i_mean_regexp.groups()[0]))\n",
    "        if stn_syn_i_var_regexp is not None:\n",
    "            syn_i_vars.append(float(stn_syn_i_var_regexp.groups()[0]))\n",
    "        if stn_syn_i_sum_regexp is not None:\n",
    "            syn_i_sums.append(float(stn_syn_i_sum_regexp.groups()[0]))\n",
    "        if electrode_1_dist_sum_regexp is not None:\n",
    "            electrode1_dist_sums.append(float(electrode_1_dist_sum_regexp.groups()[0]))\n",
    "        if electrode_1_dist_mean_regexp is not None:\n",
    "            electrode1_dist_means.append(float(electrode_1_dist_mean_regexp.groups()[0]))\n",
    "        if electrode_2_dist_sum_regexp is not None:\n",
    "            electrode2_dist_sums.append(float(electrode_2_dist_sum_regexp.groups()[0]))\n",
    "        if electrode_2_dist_mean_regexp is not None:\n",
    "            electrode2_dist_means.append(float(electrode_2_dist_mean_regexp.groups()[0]))\n",
    "        \n",
    "    return (\n",
    "        threads,\n",
    "        stn_lfp1_means,\n",
    "        stn_lfp2_means,\n",
    "        stn_lfp1_sums,\n",
    "        stn_lfp2_sums,\n",
    "        syn_i_means,\n",
    "        syn_i_vars,\n",
    "        syn_i_sums,\n",
    "        electrode1_dist_means,\n",
    "        electrode1_dist_sums,\n",
    "        electrode2_dist_means,\n",
    "        electrode2_dist_sums,\n",
    "        )"
   ]
  },
  {
   "cell_type": "code",
   "execution_count": null,
   "metadata": {},
   "outputs": [],
   "source": [
    "result_array = [get_means_and_threads(lines) for lines in lines_array]"
   ]
  },
  {
   "cell_type": "code",
   "execution_count": null,
   "metadata": {},
   "outputs": [],
   "source": [
    "def result_scatterplot(ax, result):\n",
    "    ax[0].scatter(result[0] * np.ones(len(result[1])) + np.random.normal(0, 0.1, len(result[1])), result[1])\n",
    "    ax[1].scatter(result[0] * np.ones(len(result[3])) + np.random.normal(0, 0.1, len(result[3])), result[3])\n",
    "    ax[2].scatter(result[0] * np.ones(len(result[2])) + np.random.normal(0, 0.1, len(result[2])), result[2])\n",
    "    ax[3].scatter(result[0] * np.ones(len(result[4])) + np.random.normal(0, 0.1, len(result[4])), result[4])"
   ]
  },
  {
   "cell_type": "code",
   "execution_count": null,
   "metadata": {},
   "outputs": [],
   "source": [
    "for r in result_array:\n",
    "    print(f\"{r[0]}: {len(r[1])}\")"
   ]
  },
  {
   "cell_type": "code",
   "execution_count": null,
   "metadata": {},
   "outputs": [],
   "source": [
    "fig, axs = plt.subplots(4, 1, figsize=(20, 10))\n",
    "\n",
    "axs[0].set_title('LFP 1 mean (per thread)')\n",
    "axs[1].set_title('LFP 1 sum (per thread)')\n",
    "\n",
    "axs[2].set_title('LFP 2 mean (per thread')\n",
    "axs[3].set_title('LFP 2 sum (per thread')\n",
    "\n",
    "for r in result_array:\n",
    "    result_scatterplot(axs, r)"
   ]
  },
  {
   "cell_type": "code",
   "execution_count": null,
   "metadata": {},
   "outputs": [],
   "source": [
    "def result_synaptic_current_scatterplot(ax, result):\n",
    "    ax[0].scatter(result[0] * np.ones(len(result[5])) + np.random.normal(0, 0.1, len(result[5])), result[5])\n",
    "    ax[1].scatter(result[0] * np.ones(len(result[6])) + np.random.normal(0, 0.1, len(result[6])), result[6])\n",
    "    ax[2].scatter(result[0] * np.ones(len(result[7])) + np.random.normal(0, 0.1, len(result[7])), result[7])\n",
    "    if len(result[7]) > 0:\n",
    "        ax[3].scatter(result[0] * np.ones(len(result[7])) + np.random.normal(0, 0.1, len(result[7])),  [e * result[0] for e in result[7]])"
   ]
  },
  {
   "cell_type": "code",
   "execution_count": null,
   "metadata": {},
   "outputs": [],
   "source": [
    "fig, axs = plt.subplots(4, 1, figsize=(20, 15), facecolor='white')\n",
    "\n",
    "axs[0].set_title('Synaptic current mean (per thread)')\n",
    "axs[1].set_title('Synaptic current variance (per thread)')\n",
    "axs[2].set_title('Synaptic current sum (per thread)')\n",
    "axs[3].set_title('Synaptic current sum (total)')\n",
    "\n",
    "for r in result_array:\n",
    "    result_synaptic_current_scatterplot(axs, r)"
   ]
  },
  {
   "cell_type": "code",
   "execution_count": null,
   "metadata": {},
   "outputs": [],
   "source": [
    "def result_synaptic_current_scatterplot(ax, result):\n",
    "    ax[0].scatter(result[0] * np.ones(len(result[8])) + np.random.normal(0, 0.1, len(result[8])), result[8])\n",
    "    ax[1].scatter(result[0] * np.ones(len(result[9])) + np.random.normal(0, 0.1, len(result[9])), result[9])\n",
    "    ax[2].scatter(result[0] * np.ones(len(result[10])) + np.random.normal(0, 0.1, len(result[10])), result[10])\n",
    "    ax[3].scatter(result[0] * np.ones(len(result[11])) + np.random.normal(0, 0.1, len(result[11])),  result[11])"
   ]
  },
  {
   "cell_type": "code",
   "execution_count": null,
   "metadata": {},
   "outputs": [],
   "source": [
    "fig, axs = plt.subplots(4, 1, figsize=(20, 10))\n",
    "\n",
    "axs[0].set_title('electrode 1 distance mean')\n",
    "axs[1].set_title('electrode 1 distance sum')\n",
    "axs[2].set_title('electrode 2 distance mean')\n",
    "axs[3].set_title('electrode 2 distance sum')\n",
    "\n",
    "for r in result_array:\n",
    "    result_synaptic_current_scatterplot(axs, r)"
   ]
  }
 ],
 "metadata": {
  "kernelspec": {
   "display_name": "venv",
   "language": "python",
   "name": "python3"
  },
  "language_info": {
   "codemirror_mode": {
    "name": "ipython",
    "version": 3
   },
   "file_extension": ".py",
   "mimetype": "text/x-python",
   "name": "python",
   "nbconvert_exporter": "python",
   "pygments_lexer": "ipython3",
   "version": "3.9.5"
  },
  "vscode": {
   "interpreter": {
    "hash": "450f40dd396b1913861f0149d03f0192471eb9c72b00438423b03f564776f6b9"
   }
  }
 },
 "nbformat": 4,
 "nbformat_minor": 2
}
