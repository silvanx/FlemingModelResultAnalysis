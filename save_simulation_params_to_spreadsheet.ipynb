{
 "cells": [
  {
   "cell_type": "code",
   "execution_count": null,
   "metadata": {},
   "outputs": [],
   "source": [
    "from pathlib import Path\n",
    "import re\n",
    "import openpyxl"
   ]
  },
  {
   "cell_type": "code",
   "execution_count": null,
   "metadata": {},
   "outputs": [],
   "source": [
    "directory = Path('ift')"
   ]
  },
  {
   "cell_type": "code",
   "execution_count": null,
   "metadata": {},
   "outputs": [],
   "source": [
    "def read_params(output_file):\n",
    "    params = dict()\n",
    "    with open(output_file, 'r') as f:\n",
    "        for line in f:\n",
    "            z = re.match(\"^'([a-zA-Z_-]+)': ([^,]+),?$\", line)\n",
    "            if z:\n",
    "                params[z.groups()[0]] = z.groups()[1].rstrip()\n",
    "            if re.match(\"^Output directory:\", line):\n",
    "                params['directory'] = line.split('/')[-1].rstrip()\n",
    "                break\n",
    "    return params"
   ]
  },
  {
   "cell_type": "code",
   "execution_count": null,
   "metadata": {},
   "outputs": [],
   "source": [
    "wb = openpyxl.Workbook()\n",
    "ws = wb.active\n",
    "ws.append((\n",
    "    'Simulation number',\n",
    "    'Simulation dir',\n",
    "    'Sim duration [ms]',\n",
    "    'controller',\n",
    "    'IFT experiment length [s]',\n",
    "    'Kp',\n",
    "    'Ti',\n",
    "    'gamma',\n",
    "    'lambda',\n",
    "    'seed',\n",
    "    'min_kp,min_ti',\n",
    "    'walltime',\n",
    "    'threads'\n",
    "))\n",
    "for output_file in directory.glob('*.out'):\n",
    "    print(output_file.name)\n",
    "    simulation_number = output_file.stem.split('-')[-1]\n",
    "    params = read_params(output_file)\n",
    "    ws.append((\n",
    "        simulation_number,\n",
    "        params['directory'],\n",
    "        params['RunTime'],\n",
    "        params['Controller'],\n",
    "        float(params['stage_length']),\n",
    "        float(params['Kp']),\n",
    "        float(params['Ti']),\n",
    "        float(params['gamma']),\n",
    "        float(params['lam']),\n",
    "        float(params['RandomSeed']),\n",
    "        f\"{params['min_kp']},{params['min_ti']}\",\n",
    "        '',\n",
    "        ''\n",
    "    ))\n",
    "wb.save('output.xlsx')"
   ]
  }
 ],
 "metadata": {
  "kernelspec": {
   "display_name": "venv",
   "language": "python",
   "name": "python3"
  },
  "language_info": {
   "codemirror_mode": {
    "name": "ipython",
    "version": 3
   },
   "file_extension": ".py",
   "mimetype": "text/x-python",
   "name": "python",
   "nbconvert_exporter": "python",
   "pygments_lexer": "ipython3",
   "version": "3.9.5"
  },
  "vscode": {
   "interpreter": {
    "hash": "450f40dd396b1913861f0149d03f0192471eb9c72b00438423b03f564776f6b9"
   }
  }
 },
 "nbformat": 4,
 "nbformat_minor": 2
}
